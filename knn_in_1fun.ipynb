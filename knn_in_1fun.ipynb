{
  "nbformat": 4,
  "nbformat_minor": 0,
  "metadata": {
    "colab": {
      "provenance": [],
      "authorship_tag": "ABX9TyN/bvA3vX7jLsvqg/lQcyhl",
      "include_colab_link": true
    },
    "kernelspec": {
      "name": "python3",
      "display_name": "Python 3"
    },
    "language_info": {
      "name": "python"
    }
  },
  "cells": [
    {
      "cell_type": "markdown",
      "metadata": {
        "id": "view-in-github",
        "colab_type": "text"
      },
      "source": [
        "<a href=\"https://colab.research.google.com/github/shindeaditya/Data-Science/blob/main/knn_in_1fun.ipynb\" target=\"_parent\"><img src=\"https://colab.research.google.com/assets/colab-badge.svg\" alt=\"Open In Colab\"/></a>"
      ]
    },
    {
      "cell_type": "markdown",
      "source": [
        "# Function"
      ],
      "metadata": {
        "id": "F7zk9LcqoJq5"
      }
    },
    {
      "cell_type": "code",
      "source": [
        "import pandas as pd\n",
        "import numpy as np"
      ],
      "metadata": {
        "id": "2HI3e8Dqa_Ay"
      },
      "execution_count": null,
      "outputs": []
    },
    {
      "cell_type": "code",
      "source": [
        "def mk_distance(a,b,p=1):\n",
        "  distance=0\n",
        "  for d in range(len(a)):\n",
        "    distance =+ abs(a[d]-b[d])**p\n",
        "  distance=distance**(1/p)\n",
        "  return distance"
      ],
      "metadata": {
        "id": "7EfowWqkbAEb"
      },
      "execution_count": null,
      "outputs": []
    },
    {
      "cell_type": "code",
      "execution_count": null,
      "metadata": {
        "id": "OVYuxyB-aPqe"
      },
      "outputs": [],
      "source": [
        "def knnclassifier(x1,x2):\n",
        "  test_pt=np.array([x1,x2])\n",
        "\n",
        "  iris2=pd.read_csv('/content/iris.csv', index_col=0)\n",
        "  iris=iris2[['sepal_lenght', 'petal_lenght', 'class']]\n",
        "\n",
        "  X=iris.drop('class', axis=1)\n",
        "  y=iris['class']\n",
        "\n",
        "  distance1=[]\n",
        "  for i in range(len(X)):\n",
        "    distance1.append(mk_distance(test_pt, X.iloc[i]))\n",
        "  \n",
        "  label=y.tolist()\n",
        "  zip1=zip(distance1, label)\n",
        "  zip1=list(zip1)\n",
        "  zip1=sorted(zip1, key=lambda x: x[0], reverse=False)\n",
        "  k=int(input('Enter the value of k: '))\n",
        "  #k=5\n",
        "  result=zip1[:k]\n",
        "\n",
        "  c=[]\n",
        "  for i in range(len(result)):\n",
        "    c.append(result[i][1])\n",
        "  def most_common(list1):\n",
        "    return max(set(list1), key=list1.count)\n",
        "  ans=most_common(c)\n",
        "  \n",
        "  return ans"
      ]
    },
    {
      "cell_type": "code",
      "source": [
        "knnclassifier(3.9,2.0)"
      ],
      "metadata": {
        "colab": {
          "base_uri": "https://localhost:8080/",
          "height": 53
        },
        "id": "BiuadMhYcOnv",
        "outputId": "b2b6a1fa-e05c-4d5a-e71a-6aec819d00e4"
      },
      "execution_count": null,
      "outputs": [
        {
          "name": "stdout",
          "output_type": "stream",
          "text": [
            "Enter the value of k: 5\n"
          ]
        },
        {
          "output_type": "execute_result",
          "data": {
            "text/plain": [
              "'Iris-setosa'"
            ],
            "application/vnd.google.colaboratory.intrinsic+json": {
              "type": "string"
            }
          },
          "metadata": {},
          "execution_count": 15
        }
      ]
    },
    {
      "cell_type": "markdown",
      "source": [
        "# KNN Class"
      ],
      "metadata": {
        "id": "kPFSQV1angXV"
      }
    },
    {
      "cell_type": "code",
      "source": [
        "import numpy as np\n",
        "import pandas as pd"
      ],
      "metadata": {
        "id": "tIzc1ZjAnk8W"
      },
      "execution_count": null,
      "outputs": []
    },
    {
      "cell_type": "code",
      "source": [
        "iris2=pd.read_csv('/content/iris.csv', index_col=0)\n",
        "iris=iris2[['sepal_lenght', 'petal_lenght', 'class']]"
      ],
      "metadata": {
        "id": "bp12Oj2SnrEJ"
      },
      "execution_count": null,
      "outputs": []
    },
    {
      "cell_type": "code",
      "source": [
        "X=iris.drop('class', axis=1)\n",
        "y=iris['class']"
      ],
      "metadata": {
        "id": "gOroe9UboGRy"
      },
      "execution_count": null,
      "outputs": []
    },
    {
      "cell_type": "code",
      "source": [
        "from sklearn.model_selection import train_test_split\n",
        "\n",
        "X_train, X_test, y_train, y_test = train_test_split(X, y, random_state = 42, test_size = 0.2)"
      ],
      "metadata": {
        "id": "zzaEiaC4AsCX"
      },
      "execution_count": null,
      "outputs": []
    },
    {
      "cell_type": "code",
      "source": [
        "class knn:\n",
        "  def __init__(self,k):\n",
        "    self.k=k\n",
        "\n",
        "  def fit(self, X, y):\n",
        "    self.X_train=X\n",
        "    self.y_train=y\n",
        "\n",
        "  def distance(self,a,b,p=1):\n",
        "    distance2=0\n",
        "    for d in range(len(a)):\n",
        "      distance2 =+ abs(a[d]-b[d])**p\n",
        "    distance2=(distance2)**(1/p)\n",
        "    return distance2\n",
        "\n",
        "  def predict(self, X_test, metric='manhattan'):\n",
        "    def most_common(list1):\n",
        "      return max(set(list1), key=list1.count)\n",
        "    ans=[]\n",
        "    \n",
        "    for j in range(X_test.shape[0]):\n",
        "      distance1=[]\n",
        "      c=[]\n",
        "      for i in range(len(self.X_train)):\n",
        "          if metric=='euclidean':\n",
        "            distance1.append(self.distance(X_test.values[j], self.X_train.iloc[i].values,p=2))\n",
        "          else:\n",
        "            # distance1.append(self.distance(X_test, self.X_train.iloc[i].values,p=1))\n",
        "            distance1.append(self.distance(X_test.values[j], self.X_train.iloc[i].values,p=1))\n",
        "      label=self.y_train.tolist()\n",
        "      zip1=zip(distance1, label)\n",
        "      zip1=list(zip1)\n",
        "      zip1=sorted(zip1, key=lambda x: x[0], reverse=False)\n",
        "      result=zip1[:self.k]\n",
        "\n",
        "      for i in range(len(result)):\n",
        "        c.append(result[i][1])\n",
        "      ans.append(most_common(c))\n",
        "    return ans\n",
        "\n",
        "  def score(self, X_test, y_test):\n",
        "    predictions=self.predict(X_test)\n",
        "    # final = \n",
        "    # return (predictions==y_test).sum()/len(y)\n",
        "    return ((predictions==y_test).sum())/len(y_test)\n"
      ],
      "metadata": {
        "id": "6PHaQ4KBkwTR"
      },
      "execution_count": null,
      "outputs": []
    },
    {
      "cell_type": "code",
      "source": [
        "model=knn(5)"
      ],
      "metadata": {
        "id": "y9xY_FeVnTWU"
      },
      "execution_count": null,
      "outputs": []
    },
    {
      "cell_type": "code",
      "source": [
        "model.fit(X,y)"
      ],
      "metadata": {
        "id": "MOTszciSrkNH"
      },
      "execution_count": null,
      "outputs": []
    },
    {
      "cell_type": "code",
      "source": [
        "X_test1=np.array([5.0,6.8])"
      ],
      "metadata": {
        "id": "LIakt9dVrw7L"
      },
      "execution_count": null,
      "outputs": []
    },
    {
      "cell_type": "code",
      "source": [
        "model.predict(X_test,'euclidean')"
      ],
      "metadata": {
        "colab": {
          "base_uri": "https://localhost:8080/"
        },
        "id": "oELReOP1roZC",
        "outputId": "63f0fb5e-534b-44a0-f050-960e891ffcc6"
      },
      "execution_count": null,
      "outputs": [
        {
          "output_type": "execute_result",
          "data": {
            "text/plain": [
              "['Iris-versicolor',\n",
              " 'Iris-setosa',\n",
              " 'Iris-virginica',\n",
              " 'Iris-versicolor',\n",
              " 'Iris-versicolor',\n",
              " 'Iris-setosa',\n",
              " 'Iris-versicolor',\n",
              " 'Iris-virginica',\n",
              " 'Iris-versicolor',\n",
              " 'Iris-versicolor',\n",
              " 'Iris-virginica',\n",
              " 'Iris-setosa',\n",
              " 'Iris-setosa',\n",
              " 'Iris-setosa',\n",
              " 'Iris-setosa',\n",
              " 'Iris-versicolor',\n",
              " 'Iris-virginica',\n",
              " 'Iris-versicolor',\n",
              " 'Iris-versicolor',\n",
              " 'Iris-virginica',\n",
              " 'Iris-setosa',\n",
              " 'Iris-virginica',\n",
              " 'Iris-setosa',\n",
              " 'Iris-virginica',\n",
              " 'Iris-virginica',\n",
              " 'Iris-virginica',\n",
              " 'Iris-virginica',\n",
              " 'Iris-virginica',\n",
              " 'Iris-setosa',\n",
              " 'Iris-setosa']"
            ]
          },
          "metadata": {},
          "execution_count": 221
        }
      ]
    },
    {
      "cell_type": "code",
      "source": [
        "model.score(X_test, y_test)"
      ],
      "metadata": {
        "id": "H5kTUcn3r0cf",
        "colab": {
          "base_uri": "https://localhost:8080/"
        },
        "outputId": "e5c3b274-14b2-4485-cddf-434fb04d174b"
      },
      "execution_count": null,
      "outputs": [
        {
          "output_type": "execute_result",
          "data": {
            "text/plain": [
              "1.0"
            ]
          },
          "metadata": {},
          "execution_count": 222
        }
      ]
    },
    {
      "cell_type": "code",
      "source": [
        "model.score(X_train, y_train)"
      ],
      "metadata": {
        "colab": {
          "base_uri": "https://localhost:8080/"
        },
        "id": "3pOsGVJPdXfm",
        "outputId": "e1aaed8f-3813-4b9e-f238-d6f15aef6cac"
      },
      "execution_count": null,
      "outputs": [
        {
          "output_type": "execute_result",
          "data": {
            "text/plain": [
              "0.9416666666666667"
            ]
          },
          "metadata": {},
          "execution_count": 223
        }
      ]
    },
    {
      "cell_type": "code",
      "source": [],
      "metadata": {
        "id": "8LMrRGXqiLYZ"
      },
      "execution_count": null,
      "outputs": []
    }
  ]
}